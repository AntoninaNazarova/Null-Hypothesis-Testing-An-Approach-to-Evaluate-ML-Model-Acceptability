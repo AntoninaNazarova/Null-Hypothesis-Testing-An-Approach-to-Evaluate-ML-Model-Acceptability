{
 "cells": [
  {
   "cell_type": "code",
   "execution_count": 14,
   "id": "db528248",
   "metadata": {},
   "outputs": [
    {
     "name": "stdout",
     "output_type": "stream",
     "text": [
      "Available columns: ['Molecule ChEMBL ID', 'Molecule Name', 'Molecule Max Phase', 'Molecular Weight', '#RO5 Violations', 'AlogP', 'Compound Key', 'Smiles', 'Standard Type', 'Standard Relation', 'Standard Value', 'Standard Units', 'pChEMBL Value', 'Data Validity Comment', 'Comment', 'Uo Units', 'Ligand Efficiency BEI', 'Ligand Efficiency LE', 'Ligand Efficiency LLE', 'Ligand Efficiency SEI', 'Potential Duplicate', 'Assay ChEMBL ID', 'Assay Description', 'Assay Type', 'BAO Format ID', 'BAO Label', 'Assay Organism', 'Assay Tissue ChEMBL ID', 'Assay Tissue Name', 'Assay Cell Type', 'Assay Subcellular Fraction', 'Assay Parameters', 'Assay Variant Accession', 'Assay Variant Mutation', 'Target ChEMBL ID', 'Target Name', 'Target Organism', 'Target Type', 'Document ChEMBL ID', 'Source ID', 'Source Description', 'Document Journal', 'Document Year', 'Cell ChEMBL ID', 'Properties', 'Action Type', 'Standard Text Value', 'Value']\n"
     ]
    }
   ],
   "source": [
    "from rdkit import Chem\n",
    "from rdkit.Chem import AllChem, SDWriter\n",
    "import pandas as pd\n",
    "\n",
    "# Load the semicolon-separated CSV file\n",
    "csv_file = \"excel.csv\"\n",
    "df = pd.read_csv(csv_file, sep=';')\n",
    "\n",
    "# Inspect to find the SMILES column name\n",
    "print(\"Available columns:\", df.columns.tolist())"
   ]
  },
  {
   "cell_type": "code",
   "execution_count": 15,
   "id": "ac2eab15",
   "metadata": {},
   "outputs": [
    {
     "name": "stderr",
     "output_type": "stream",
     "text": [
      "[14:21:28] UFFTYPER: Unrecognized charge state for atom: 20\n"
     ]
    },
    {
     "name": "stdout",
     "output_type": "stream",
     "text": [
      "✅ SDF successfully written to output.sdf\n"
     ]
    }
   ],
   "source": [
    "from rdkit import Chem\n",
    "from rdkit.Chem import AllChem, SDWriter\n",
    "import pandas as pd\n",
    "\n",
    "# Load the semicolon-separated CSV file\n",
    "csv_file = \"excel.csv\"\n",
    "df = pd.read_csv(csv_file, sep=';')\n",
    "\n",
    "# Initialize the SDF writer\n",
    "writer = SDWriter(\"output.sdf\")\n",
    "\n",
    "# Process each molecule\n",
    "for idx, row in df.iterrows():\n",
    "    smiles = row['Smiles']\n",
    "    mol = Chem.MolFromSmiles(smiles)\n",
    "\n",
    "    if mol is None:\n",
    "        print(f\"[Warning] Invalid SMILES at row {idx}: {smiles}\")\n",
    "        continue\n",
    "\n",
    "    # Optional: generate 3D coordinates\n",
    "    mol = Chem.AddHs(mol)\n",
    "    AllChem.EmbedMolecule(mol, randomSeed=42)\n",
    "\n",
    "    # Set all properties except the SMILES\n",
    "    for col in df.columns:\n",
    "        if col != 'Smiles':\n",
    "            mol.SetProp(str(col), str(row[col]))\n",
    "\n",
    "    writer.write(mol)\n",
    "\n",
    "writer.close()\n",
    "print(\"✅ SDF successfully written to output.sdf\")\n",
    "\n"
   ]
  }
 ],
 "metadata": {
  "kernelspec": {
   "display_name": "base",
   "language": "python",
   "name": "python3"
  },
  "language_info": {
   "codemirror_mode": {
    "name": "ipython",
    "version": 3
   },
   "file_extension": ".py",
   "mimetype": "text/x-python",
   "name": "python",
   "nbconvert_exporter": "python",
   "pygments_lexer": "ipython3",
   "version": "3.10.16"
  }
 },
 "nbformat": 4,
 "nbformat_minor": 5
}
